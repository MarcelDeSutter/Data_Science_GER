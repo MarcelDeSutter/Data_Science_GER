{
  "nbformat": 4,
  "nbformat_minor": 0,
  "metadata": {
    "colab": {
      "name": "0703_loesungen_dimensionsreduzierung.ipynb",
      "provenance": [],
      "authorship_tag": "ABX9TyP6KKyfkp/pbskGm3w94Wmd",
      "include_colab_link": true
    },
    "kernelspec": {
      "name": "python3",
      "display_name": "Python 3"
    }
  },
  "cells": [
    {
      "cell_type": "markdown",
      "metadata": {
        "id": "view-in-github",
        "colab_type": "text"
      },
      "source": [
        "<a href=\"https://colab.research.google.com/github/MarcelDeSutter/Data_Science_GER/blob/main/0703_loesungen_dimensionsreduzierung.ipynb\" target=\"_parent\"><img src=\"https://colab.research.google.com/assets/colab-badge.svg\" alt=\"Open In Colab\"/></a>"
      ]
    },
    {
      "cell_type": "code",
      "metadata": {
        "id": "wERLkLwyHknh"
      },
      "source": [
        ""
      ],
      "execution_count": null,
      "outputs": []
    },
    {
      "cell_type": "markdown",
      "metadata": {
        "id": "ZF3pkFpalJUS"
      },
      "source": [
        "Im Theorie-Notebook haben wir den PCA-Algorithmus kennengelernt. Hier eine kurze Zusammenfassung als Erinnerung:\r\n",
        "\r\n",
        "1. Berechne den Mittelwert $\\bar{x}:=\\frac{1}{N}\\sum_{n=1}^{N}x_n$.\r\n",
        "2. Berechne die zentrierte Datenmatrix $\\tilde{X}:=(x_1-\\bar{x},\\ldots,x_n-\\bar{x})^T$.\r\n",
        "3. Berechne die Kovarianzmatrix $S=\\frac{1}{N-1}\\tilde{X}^T\\tilde{X}$.\r\n",
        "4. Berechne die Eigendekomposition der Kovarianzmatrix $S=Q diag(\\lambda) Q^T$.\r\n",
        "5. Wähle $k$ Spalten von $Q$, die mit den $k$ größten Eigenwerten in $\\lambda$ korrespondieren, normalisiere sie und erzeuge daraus die Enkodierungsmatrix $V$.\r\n",
        "\r\n",
        "Nun können wir für eine beliebige Observation $x$ den Rekonstruktionsfehler bezüglich der Projektion $V$ berechnen:\r\n",
        "\r\n",
        "1. Projiziere die Observationen in den latenten Raum $z=V^Tx$.\r\n",
        "2. Erhalte die Rekonstruktion, indem der latente Punkt zurück in den Datenraum projiziert wird $\\hat{x}=Vz$.\r\n",
        "\r\n",
        "Der Rekonsturktionsfehler $e$ ist nun der MSE zwischen den Daten $X$ und der Rekonstruktion $\\hat{X}$:\r\n",
        "\r\n",
        "$$e=\\frac{1}{N}\\sum_{n=1}^{N}\\Vert x_n-\\hat{x}_n\\Vert_{2}^{2}$$"
      ]
    },
    {
      "cell_type": "code",
      "metadata": {
        "id": "dlo63_PRlH5y"
      },
      "source": [
        ""
      ],
      "execution_count": null,
      "outputs": []
    }
  ]
}