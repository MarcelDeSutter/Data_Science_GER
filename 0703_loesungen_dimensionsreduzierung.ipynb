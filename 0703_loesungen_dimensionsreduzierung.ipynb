{
  "nbformat": 4,
  "nbformat_minor": 0,
  "metadata": {
    "colab": {
      "name": "0703_loesungen_dimensionsreduzierung.ipynb",
      "provenance": [],
      "authorship_tag": "ABX9TyP1b9AsMYuKpU2monBoycFV",
      "include_colab_link": true
    },
    "kernelspec": {
      "name": "python3",
      "display_name": "Python 3"
    }
  },
  "cells": [
    {
      "cell_type": "markdown",
      "metadata": {
        "id": "view-in-github",
        "colab_type": "text"
      },
      "source": [
        "<a href=\"https://colab.research.google.com/github/MarcelDeSutter/Data_Science_GER/blob/main/0703_loesungen_dimensionsreduzierung.ipynb\" target=\"_parent\"><img src=\"https://colab.research.google.com/assets/colab-badge.svg\" alt=\"Open In Colab\"/></a>"
      ]
    },
    {
      "cell_type": "code",
      "metadata": {
        "id": "wERLkLwyHknh"
      },
      "source": [
        ""
      ],
      "execution_count": null,
      "outputs": []
    },
    {
      "cell_type": "markdown",
      "metadata": {
        "id": "ZF3pkFpalJUS"
      },
      "source": [
        "Im Theorie-Notebook haben wir den PCA-Algorithmus kennengelernt. Hier eine kurze Zusammenfassung als Erinnerung:\r\n",
        "\r\n",
        "1. Berechne den Mittelwert $\\bar{x}:=\\frac{1}{N}\\sum_{n=1}^{N}x_n$.\r\n",
        "2. Berechne die zentrierte Datenmatrix $\\tilde{X}:=(x_1-\\bar{x},\\ldots,x_n-\\bar{x})^T$.\r\n",
        "3. Berechne die Kovarianzmatrix $S=\\frac{1}{N-1}\\tilde{X}^T\\tilde{X}$.\r\n",
        "4. Berechne die Eigendekomposition der Kovarianzmatrix $S=Q diag(\\lambda) Q^T$.\r\n",
        "5. Wähle $k$ Spalten von $Q$, die mit den $k$ größten Eigenwerten in $\\lambda$ korrespondieren, normalisiere sie und erzeuge daraus die Enkodierungsmatrix $V$.\r\n",
        "\r\n",
        "Nun können wir für eine beliebige Observation $x$ den Rekonstruktionsfehler bezüglich der Projektion $V$ berechnen:\r\n",
        "\r\n",
        "1. Projiziere die Observationen in den latenten Raum $z=V^Tx$.\r\n",
        "2. Erhalte die Rekonstruktion, indem der latente Punkt zurück in den Datenraum projiziert wird $\\hat{x}=Vz$.\r\n",
        "\r\n",
        "Der Rekonsturktionsfehler $e$ ist nun der MSE zwischen den Daten $X$ und der Rekonstruktion $\\hat{X}$:\r\n",
        "\r\n",
        "$$e=\\frac{1}{N}\\sum_{n=1}^{N}\\Vert x_n-\\hat{x}_n\\Vert_{2}^{2}$$"
      ]
    },
    {
      "cell_type": "code",
      "metadata": {
        "colab": {
          "base_uri": "https://localhost:8080/"
        },
        "id": "dlo63_PRlH5y",
        "outputId": "3d4fcef4-28ae-4e62-8215-67cce22289f9"
      },
      "source": [
        "from sklearn.datasets import fetch_lfw_people\r\n",
        "lfw_people = fetch_lfw_people(min_faces_per_person=70, resize=0.4)"
      ],
      "execution_count": 1,
      "outputs": [
        {
          "output_type": "stream",
          "text": [
            "Downloading LFW metadata: https://ndownloader.figshare.com/files/5976012\n",
            "Downloading LFW metadata: https://ndownloader.figshare.com/files/5976009\n",
            "Downloading LFW metadata: https://ndownloader.figshare.com/files/5976006\n",
            "Downloading LFW data (~200MB): https://ndownloader.figshare.com/files/5976015\n"
          ],
          "name": "stderr"
        }
      ]
    },
    {
      "cell_type": "code",
      "metadata": {
        "id": "eTVvIV1w0S4d",
        "outputId": "adc0fb9f-1942-4888-f8f9-7833b22d7589",
        "colab": {
          "base_uri": "https://localhost:8080/"
        }
      },
      "source": [
        "X = lfw_people.data\r\n",
        "X.shape # 50*37 = 1850"
      ],
      "execution_count": 14,
      "outputs": [
        {
          "output_type": "execute_result",
          "data": {
            "text/plain": [
              "(1288, 1850)"
            ]
          },
          "metadata": {
            "tags": []
          },
          "execution_count": 14
        }
      ]
    },
    {
      "cell_type": "code",
      "metadata": {
        "id": "ivAkAZ0X10AI"
      },
      "source": [
        "dim = (50, 37)"
      ],
      "execution_count": 15,
      "outputs": []
    },
    {
      "cell_type": "code",
      "metadata": {
        "id": "NPx88Lma0deF",
        "outputId": "dcc94f1a-45c3-4c57-8309-0f1ac9d8dfa9",
        "colab": {
          "base_uri": "https://localhost:8080/",
          "height": 112
        }
      },
      "source": [
        "import numpy as np\r\n",
        "import matplotlib.pyplot as plt\r\n",
        "\r\n",
        "n_images = 5\r\n",
        "\r\n",
        "fig = plt.figure()\r\n",
        "for i in range(n_images):\r\n",
        "    idx = np.random.randint(len(X))\r\n",
        "    ax = fig.add_subplot(1, n_images, i+1)\r\n",
        "    ax.imshow(X[idx].reshape(dim), cmap='Greys_r')\r\n",
        "    ax.set_xticks([])\r\n",
        "    ax.set_yticks([])\r\n",
        "\r\n",
        "plt.show()"
      ],
      "execution_count": 11,
      "outputs": [
        {
          "output_type": "display_data",
          "data": {
            "image/png": "[encoded data removed]",
            "text/plain": [
              "<Figure size 432x288 with 5 Axes>"
            ]
          },
          "metadata": {
            "tags": []
          }
        }
      ]
    },
    {
      "cell_type": "code",
      "metadata": {
        "id": "7H7P2Z3f1ASh",
        "outputId": "2ea3353e-7b3e-46e4-d802-e20c79d21aac",
        "colab": {
          "base_uri": "https://localhost:8080/"
        }
      },
      "source": [
        "S = np.cov(X, rowvar=False)\r\n",
        "S.shape"
      ],
      "execution_count": 13,
      "outputs": [
        {
          "output_type": "execute_result",
          "data": {
            "text/plain": [
              "(1850, 1850)"
            ]
          },
          "metadata": {
            "tags": []
          },
          "execution_count": 13
        }
      ]
    },
    {
      "cell_type": "code",
      "metadata": {
        "id": "pingHAZQ3EI6"
      },
      "source": [
        ""
      ],
      "execution_count": null,
      "outputs": []
    }
  ]
}